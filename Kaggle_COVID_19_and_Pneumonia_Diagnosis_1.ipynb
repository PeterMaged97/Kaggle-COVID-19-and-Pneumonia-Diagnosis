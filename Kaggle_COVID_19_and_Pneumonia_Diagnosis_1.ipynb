{
  "nbformat": 4,
  "nbformat_minor": 0,
  "metadata": {
    "colab": {
      "name": "Kaggle - COVID-19 and Pneumonia Diagnosis 1.ipynb",
      "provenance": [],
      "collapsed_sections": [],
      "toc_visible": true
    },
    "kernelspec": {
      "name": "python3",
      "display_name": "Python 3"
    }
  },
  "cells": [
    {
      "cell_type": "markdown",
      "metadata": {
        "id": "Bb-aQPaJGQSe",
        "colab_type": "text"
      },
      "source": [
        "#Loading and organizing the data"
      ]
    },
    {
      "cell_type": "code",
      "metadata": {
        "id": "hKIWN2cmTF_o",
        "colab_type": "code",
        "colab": {
          "base_uri": "https://localhost:8080/",
          "height": 122
        },
        "outputId": "f3761d7d-0383-474a-fa97-07c714e711cc"
      },
      "source": [
        "from google.colab import drive\n",
        "drive.mount('/content/drive')"
      ],
      "execution_count": null,
      "outputs": [
        {
          "output_type": "stream",
          "text": [
            "Go to this URL in a browser: https://accounts.google.com/o/oauth2/auth?client_id=947318989803-6bn6qk8qdgf4n4g3pfee6491hc0brc4i.apps.googleusercontent.com&redirect_uri=urn%3aietf%3awg%3aoauth%3a2.0%3aoob&response_type=code&scope=email%20https%3a%2f%2fwww.googleapis.com%2fauth%2fdocs.test%20https%3a%2f%2fwww.googleapis.com%2fauth%2fdrive%20https%3a%2f%2fwww.googleapis.com%2fauth%2fdrive.photos.readonly%20https%3a%2f%2fwww.googleapis.com%2fauth%2fpeopleapi.readonly\n",
            "\n",
            "Enter your authorization code:\n",
            "··········\n",
            "Mounted at /content/drive\n"
          ],
          "name": "stdout"
        }
      ]
    },
    {
      "cell_type": "code",
      "metadata": {
        "id": "zmXe0q3uGjLm",
        "colab_type": "code",
        "colab": {
          "base_uri": "https://localhost:8080/",
          "height": 187
        },
        "outputId": "04b629cc-db9f-44e1-a5f4-f1687bd2cede"
      },
      "source": [
        "!pip install rarfile\n",
        "import rarfile\n",
        "import os\n",
        "import random\n",
        "import tensorflow as tf\n",
        "from tensorflow.keras.optimizers import RMSprop\n",
        "from tensorflow.keras.preprocessing.image import ImageDataGenerator\n",
        "from shutil import copyfile"
      ],
      "execution_count": null,
      "outputs": [
        {
          "output_type": "stream",
          "text": [
            "Collecting rarfile\n",
            "\u001b[?25l  Downloading https://files.pythonhosted.org/packages/88/0b/107dde3f330d04668e126932a09002ac47348841453aa0391634381fa087/rarfile-3.1.tar.gz (121kB)\n",
            "\r\u001b[K     |██▊                             | 10kB 18.5MB/s eta 0:00:01\r\u001b[K     |█████▍                          | 20kB 1.7MB/s eta 0:00:01\r\u001b[K     |████████                        | 30kB 2.5MB/s eta 0:00:01\r\u001b[K     |██████████▉                     | 40kB 1.7MB/s eta 0:00:01\r\u001b[K     |█████████████▌                  | 51kB 2.1MB/s eta 0:00:01\r\u001b[K     |████████████████▏               | 61kB 2.5MB/s eta 0:00:01\r\u001b[K     |██████████████████▉             | 71kB 2.8MB/s eta 0:00:01\r\u001b[K     |█████████████████████▋          | 81kB 2.2MB/s eta 0:00:01\r\u001b[K     |████████████████████████▎       | 92kB 2.4MB/s eta 0:00:01\r\u001b[K     |███████████████████████████     | 102kB 2.7MB/s eta 0:00:01\r\u001b[K     |█████████████████████████████▋  | 112kB 2.7MB/s eta 0:00:01\r\u001b[K     |████████████████████████████████| 122kB 2.7MB/s \n",
            "\u001b[?25hBuilding wheels for collected packages: rarfile\n",
            "  Building wheel for rarfile (setup.py) ... \u001b[?25l\u001b[?25hdone\n",
            "  Created wheel for rarfile: filename=rarfile-3.1-cp36-none-any.whl size=24908 sha256=9ebbbe6988f3c6fb40ff97da90c1aa8d63d11452a8762289a1561756add07e73\n",
            "  Stored in directory: /root/.cache/pip/wheels/23/3c/c8/0215b6a5079492eff3be3f545ae0b0c4a66734c35c9e444eac\n",
            "Successfully built rarfile\n",
            "Installing collected packages: rarfile\n",
            "Successfully installed rarfile-3.1\n"
          ],
          "name": "stdout"
        }
      ]
    },
    {
      "cell_type": "code",
      "metadata": {
        "id": "AzmWknHrHnz9",
        "colab_type": "code",
        "colab": {}
      },
      "source": [
        "#extracting the data\n",
        "\n",
        "def unrar(source_path,dest_path):\n",
        "  for rar in os.listdir(source_path):\n",
        "    filepath = os.path.join(source_path, rar)\n",
        "    with rarfile.RarFile(filepath) as opened_rar:\n",
        "      #for f in opened_rar.infolist():\n",
        "        #print (f.filename, f.file_size)\n",
        "      opened_rar.extractall(os.path.join(dest_path))\n",
        "\n",
        "unrar(\"/content/drive/My Drive/Kaggle - COVID-19 and Pneumonia Diagnosis/\",\"/content/drive/My Drive/Kaggle - COVID-19 and Pneumonia Diagnosis/extracted\")"
      ],
      "execution_count": null,
      "outputs": []
    },
    {
      "cell_type": "code",
      "metadata": {
        "id": "_2mep_cXIu2f",
        "colab_type": "code",
        "colab": {
          "base_uri": "https://localhost:8080/",
          "height": 68
        },
        "outputId": "16a8cd2f-376d-4a93-b5f5-3de513e3d3fc"
      },
      "source": [
        "# Making sure data was successfully extracted\n",
        "print(len(os.listdir('/content/drive/My Drive/Kaggle - COVID-19 and Pneumonia Diagnosis/extracted/train/COVID19 AND PNEUMONIA/')))\n",
        "print(len(os.listdir('/content/drive/My Drive/Kaggle - COVID-19 and Pneumonia Diagnosis/extracted/train/NORMAL/')))\n",
        "print(len(os.listdir('/content/drive/My Drive/Kaggle - COVID-19 and Pneumonia Diagnosis/extracted/test/')))"
      ],
      "execution_count": null,
      "outputs": [
        {
          "output_type": "stream",
          "text": [
            "3925\n",
            "1341\n",
            "690\n"
          ],
          "name": "stdout"
        }
      ]
    },
    {
      "cell_type": "code",
      "metadata": {
        "id": "q3fr0Ch5SMlp",
        "colab_type": "code",
        "colab": {}
      },
      "source": [
        "# Automated Keras Train/Validation Split\n",
        "\n",
        "# train_datagen = ImageDataGenerator(rescale=1./255,\n",
        "#     shear_range=0.2,\n",
        "#     zoom_range=0.2,\n",
        "#     horizontal_flip=True,\n",
        "#     validation_split=0.1) # set validation split\n",
        "\n",
        "# train_generator = train_datagen.flow_from_directory(\n",
        "#     train_data_dir,\n",
        "#     target_size=(img_height, img_width),\n",
        "#     batch_size=batch_size,\n",
        "#     class_mode='binary',\n",
        "#     subset='training') # set as training data\n",
        "\n",
        "# validation_generator = train_datagen.flow_from_directory(\n",
        "#     train_data_dir, # same directory as training data\n",
        "#     target_size=(img_height, img_width),\n",
        "#     batch_size=batch_size,\n",
        "#     class_mode='binary',\n",
        "#     subset='validation') # set as validation data"
      ],
      "execution_count": null,
      "outputs": []
    },
    {
      "cell_type": "code",
      "metadata": {
        "id": "8sWXgoZHVF6x",
        "colab_type": "code",
        "colab": {}
      },
      "source": [
        "os.mkdir('/tmp/Kaggle - COVID-19 and Pneumonia Diagnosis')\n",
        "os.mkdir('/tmp/Kaggle - COVID-19 and Pneumonia Diagnosis/training')\n",
        "os.mkdir('/tmp/Kaggle - COVID-19 and Pneumonia Diagnosis/testing')\n",
        "os.mkdir('/tmp/Kaggle - COVID-19 and Pneumonia Diagnosis/training/covid')\n",
        "os.mkdir('/tmp/Kaggle - COVID-19 and Pneumonia Diagnosis/training/normal')\n",
        "os.mkdir('/tmp/Kaggle - COVID-19 and Pneumonia Diagnosis/testing/covid')\n",
        "os.mkdir('/tmp/Kaggle - COVID-19 and Pneumonia Diagnosis/testing/normal')"
      ],
      "execution_count": null,
      "outputs": []
    },
    {
      "cell_type": "code",
      "metadata": {
        "id": "81BxCX26SqcE",
        "colab_type": "code",
        "colab": {}
      },
      "source": [
        "def split_data(SOURCE, TRAINING, TESTING, SPLIT_SIZE):\n",
        "    files = []\n",
        "    for filename in os.listdir(SOURCE):\n",
        "        file = SOURCE + filename\n",
        "        files.append(filename)\n",
        "\n",
        "    training_length = int(len(files) * SPLIT_SIZE)\n",
        "    testing_length = int(len(files) - training_length)\n",
        "    shuffled_set = random.sample(files, len(files))\n",
        "    training_set = shuffled_set[0:training_length]\n",
        "    testing_set = shuffled_set[:testing_length]\n",
        "\n",
        "    for filename in training_set:\n",
        "        this_file = SOURCE + filename\n",
        "        destination = TRAINING + filename\n",
        "        copyfile(this_file, destination)\n",
        "\n",
        "    for filename in testing_set:\n",
        "        this_file = SOURCE + filename\n",
        "        destination = TESTING + filename\n",
        "        copyfile(this_file, destination)\n",
        "\n",
        "\n",
        "COVID_SOURCE = \"/content/drive/My Drive/Kaggle - COVID-19 and Pneumonia Diagnosis/extracted/train/COVID19 AND PNEUMONIA/\"\n",
        "TRAINING_COVID_DEST = \"/tmp/Kaggle - COVID-19 and Pneumonia Diagnosis/training/covid/\"\n",
        "TESTING_COVID_DEST = \"/tmp/Kaggle - COVID-19 and Pneumonia Diagnosis/testing/covid/\"\n",
        "NORMAL_SOURCE = \"/content/drive/My Drive/Kaggle - COVID-19 and Pneumonia Diagnosis/extracted/train/NORMAL/\"\n",
        "TRAINING_NORMAL_DEST = \"/tmp/Kaggle - COVID-19 and Pneumonia Diagnosis/training/normal/\"\n",
        "TESTING_NORMAL_DEST = \"/tmp/Kaggle - COVID-19 and Pneumonia Diagnosis/testing/normal/\"\n",
        "\n",
        "split_size = .9\n",
        "split_data(COVID_SOURCE, TRAINING_COVID_DEST, TESTING_COVID_DEST, split_size)\n",
        "split_data(NORMAL_SOURCE, TRAINING_NORMAL_DEST, TESTING_NORMAL_DEST, split_size)\n"
      ],
      "execution_count": null,
      "outputs": []
    },
    {
      "cell_type": "code",
      "metadata": {
        "id": "D7Ec2ea6UxIV",
        "colab_type": "code",
        "colab": {}
      },
      "source": [
        "model = tf.keras.models.Sequential([\n",
        "    tf.keras.layers.Conv2D(16, (3, 3), activation='relu', input_shape=(150, 150, 3)),\n",
        "    tf.keras.layers.MaxPooling2D(2, 2),\n",
        "    tf.keras.layers.Conv2D(32, (3, 3), activation='relu'),\n",
        "    tf.keras.layers.MaxPooling2D(2, 2),\n",
        "    tf.keras.layers.Conv2D(64, (3, 3), activation='relu'),\n",
        "    tf.keras.layers.MaxPooling2D(2, 2),\n",
        "    tf.keras.layers.Flatten(),\n",
        "    tf.keras.layers.Dense(512, activation='relu'),\n",
        "    tf.keras.layers.Dense(1, activation='sigmoid')\n",
        "])\n",
        "\n",
        "model.compile(optimizer=RMSprop(lr=0.001), loss='binary_crossentropy', metrics=['accuracy'])"
      ],
      "execution_count": null,
      "outputs": []
    },
    {
      "cell_type": "code",
      "metadata": {
        "id": "N9HdVQriWWTH",
        "colab_type": "code",
        "colab": {
          "base_uri": "https://localhost:8080/",
          "height": 51
        },
        "outputId": "f75d63d8-1fcb-41b1-efec-baa59f7e9a65"
      },
      "source": [
        "TRAINING_DIR = \"/tmp/Kaggle - COVID-19 and Pneumonia Diagnosis/training/\"\n",
        "train_datagen = ImageDataGenerator(rescale=1./255,\n",
        "      #rotation_range=40,\n",
        "      width_shift_range=0.2,\n",
        "      height_shift_range=0.2,\n",
        "      shear_range=0.2,\n",
        "      zoom_range=0.2,\n",
        "      #horizontal_flip=True,\n",
        "      fill_mode='nearest',\n",
        "      bal)\n",
        "train_generator = train_datagen.flow_from_directory(TRAINING_DIR,\n",
        "                                                    batch_size=20,\n",
        "                                                    class_mode='binary',\n",
        "                                                    target_size=(150, 150))\n",
        "\n",
        "VALIDATION_DIR = \"/tmp/Kaggle - COVID-19 and Pneumonia Diagnosis/testing/\"\n",
        "validation_datagen = ImageDataGenerator(rescale=1./255\n",
        "    #   rotation_range=40,\n",
        "    #   width_shift_range=0.2,\n",
        "    #   height_shift_range=0.2,\n",
        "    #   shear_range=0.2,\n",
        "    #   zoom_range=0.2,\n",
        "    #   #horizontal_flip=True,\n",
        "    #   fill_mode='nearest')\n",
        "validation_generator = validation_datagen.flow_from_directory(VALIDATION_DIR,\n",
        "                                                              batch_size=20,\n",
        "                                                              class_mode='binary',\n",
        "                                                              target_size=(150, 150))"
      ],
      "execution_count": null,
      "outputs": [
        {
          "output_type": "stream",
          "text": [
            "Found 4738 images belonging to 2 classes.\n",
            "Found 528 images belonging to 2 classes.\n"
          ],
          "name": "stdout"
        }
      ]
    },
    {
      "cell_type": "code",
      "metadata": {
        "id": "PmOllsv1W0pz",
        "colab_type": "code",
        "colab": {
          "base_uri": "https://localhost:8080/",
          "height": 527
        },
        "outputId": "ec25dd69-c6b6-4f6b-abb4-715b5017909e"
      },
      "source": [
        "m = model.fit(train_generator,\n",
        "              epochs=15,\n",
        "              steps_per_epoch= 4738/20,\n",
        "              validation_steps = 50,\n",
        "              verbose=1,\n",
        "              validation_data=validation_generator)"
      ],
      "execution_count": null,
      "outputs": [
        {
          "output_type": "stream",
          "text": [
            "Epoch 1/15\n",
            "237/236 [==============================] - 77s 323ms/step - loss: 0.3444 - accuracy: 0.8506 - val_loss: 0.4086 - val_accuracy: 0.8248\n",
            "Epoch 2/15\n",
            "237/236 [==============================] - 77s 327ms/step - loss: 0.2786 - accuracy: 0.8805 - val_loss: 0.3531 - val_accuracy: 0.8563\n",
            "Epoch 3/15\n",
            "237/236 [==============================] - 77s 326ms/step - loss: 0.2538 - accuracy: 0.8964 - val_loss: 0.3392 - val_accuracy: 0.8361\n",
            "Epoch 4/15\n",
            "237/236 [==============================] - 77s 326ms/step - loss: 0.2343 - accuracy: 0.9025 - val_loss: 0.2848 - val_accuracy: 0.8770\n",
            "Epoch 5/15\n",
            "237/236 [==============================] - 77s 325ms/step - loss: 0.2237 - accuracy: 0.9171 - val_loss: 1.0390 - val_accuracy: 0.6455\n",
            "Epoch 6/15\n",
            "237/236 [==============================] - 77s 325ms/step - loss: 0.2111 - accuracy: 0.9215 - val_loss: 0.2686 - val_accuracy: 0.8781\n",
            "Epoch 7/15\n",
            "237/236 [==============================] - 77s 324ms/step - loss: 0.1952 - accuracy: 0.9276 - val_loss: 0.3431 - val_accuracy: 0.8658\n",
            "Epoch 8/15\n",
            "237/236 [==============================] - 77s 324ms/step - loss: 0.1912 - accuracy: 0.9276 - val_loss: 0.3537 - val_accuracy: 0.8699\n",
            "Epoch 9/15\n",
            "237/236 [==============================] - 76s 320ms/step - loss: 0.1964 - accuracy: 0.9285 - val_loss: 0.2901 - val_accuracy: 0.8832\n",
            "Epoch 10/15\n",
            "237/236 [==============================] - 76s 320ms/step - loss: 0.1738 - accuracy: 0.9304 - val_loss: 0.3140 - val_accuracy: 0.8822\n",
            "Epoch 11/15\n",
            "237/236 [==============================] - 76s 322ms/step - loss: 0.1778 - accuracy: 0.9344 - val_loss: 0.3350 - val_accuracy: 0.8745\n",
            "Epoch 12/15\n",
            "237/236 [==============================] - 77s 325ms/step - loss: 0.1654 - accuracy: 0.9358 - val_loss: 0.4738 - val_accuracy: 0.8750\n",
            "Epoch 13/15\n",
            "237/236 [==============================] - 77s 325ms/step - loss: 0.1687 - accuracy: 0.9354 - val_loss: 0.2675 - val_accuracy: 0.8750\n",
            "Epoch 14/15\n",
            "237/236 [==============================] - 77s 325ms/step - loss: 0.1635 - accuracy: 0.9377 - val_loss: 0.2814 - val_accuracy: 0.8986\n",
            "Epoch 15/15\n",
            "237/236 [==============================] - 77s 325ms/step - loss: 0.1514 - accuracy: 0.9409 - val_loss: 0.3571 - val_accuracy: 0.8801\n"
          ],
          "name": "stdout"
        }
      ]
    },
    {
      "cell_type": "code",
      "metadata": {
        "id": "kvXETEVku8Ra",
        "colab_type": "code",
        "colab": {}
      },
      "source": [
        "files = os.listdir('/content/drive/My Drive/Kaggle - COVID-19 and Pneumonia Diagnosis/extracted/test/')\n",
        "import shutil\n",
        "\n",
        "for f in files: \n",
        "    fi = os.path.join('/content/drive/My Drive/Kaggle - COVID-19 and Pneumonia Diagnosis/extracted/test/', f)\n",
        "    shutil.move(fi, '/content/drive/My Drive/Kaggle - COVID-19 and Pneumonia Diagnosis/extracted/test/images')"
      ],
      "execution_count": null,
      "outputs": []
    },
    {
      "cell_type": "code",
      "metadata": {
        "id": "Afg3T54rXqQ6",
        "colab_type": "code",
        "colab": {
          "base_uri": "https://localhost:8080/",
          "height": 34
        },
        "outputId": "6dcec483-e3c1-4108-d0ff-899a2afae22c"
      },
      "source": [
        "#train_generator.class_indices\n",
        "import pandas as pd\n",
        "#sub = pd.read_csv('/content/drive/My Drive/Kaggle - COVID-19 and Pneumonia Diagnosis/Submit.csv')\n",
        "pred_dir = '/content/drive/My Drive/Kaggle - COVID-19 and Pneumonia Diagnosis/extracted/test/'\n",
        "test_datagen = ImageDataGenerator(rescale=1./255)\n",
        "test_generator = test_datagen.flow_from_directory(\n",
        "    directory=pred_dir,\n",
        "    target_size=(150, 150),\n",
        "    batch_size=1,\n",
        "    #class_mode='binary',\n",
        "    shuffle=False\n",
        ")"
      ],
      "execution_count": null,
      "outputs": [
        {
          "output_type": "stream",
          "text": [
            "Found 690 images belonging to 1 classes.\n"
          ],
          "name": "stdout"
        }
      ]
    },
    {
      "cell_type": "code",
      "metadata": {
        "id": "k4W_vXTBXADD",
        "colab_type": "code",
        "colab": {
          "base_uri": "https://localhost:8080/",
          "height": 34
        },
        "outputId": "b079901d-ce2a-48f1-ef3a-148b40e7876b"
      },
      "source": [
        "#test_generator.reset()\n",
        "pred=model.predict_generator(test_generator, steps=len(test_generator), verbose=1)\n",
        "predicted_class_indices=np.argmax(pred,axis=1)\n",
        "cl = np.round(pred)"
      ],
      "execution_count": null,
      "outputs": [
        {
          "output_type": "stream",
          "text": [
            "690/690 [==============================] - 9s 13ms/step\n"
          ],
          "name": "stdout"
        }
      ]
    },
    {
      "cell_type": "code",
      "metadata": {
        "id": "BbSjmmHwxLxZ",
        "colab_type": "code",
        "colab": {
          "base_uri": "https://localhost:8080/",
          "height": 292
        },
        "outputId": "5c82cfc9-9898-4514-b31b-bc384f00d419"
      },
      "source": [
        "filenames=[i[7:] for i in test_generator.filenames]\n",
        "\n",
        "#print(cl)\n",
        "classes = [int(i) for i in cl]\n",
        "print(classes)\n",
        "for i in range(len(classes)):\n",
        "  if classes[i] == 1:\n",
        "    classes[i] = 0\n",
        "  else:\n",
        "    classes[i] = 1\n",
        "results=pd.DataFrame({\"Image\":filenames,\n",
        "                      \"Label\":classes})\n",
        "print(results)\n",
        "results.to_csv('Submit.csv', index=False)"
      ],
      "execution_count": null,
      "outputs": [
        {
          "output_type": "stream",
          "text": [
            "[1, 1, 0, 0, 0, 0, 0, 0, 0, 0, 0, 0, 0, 1, 0, 1, 0, 0, 0, 0, 0, 0, 0, 0, 0, 0, 0, 0, 0, 0, 0, 0, 0, 0, 0, 0, 0, 0, 0, 1, 0, 0, 0, 0, 0, 0, 0, 0, 0, 0, 0, 1, 1, 0, 0, 0, 0, 0, 0, 1, 0, 0, 0, 1, 1, 0, 0, 0, 0, 0, 0, 0, 0, 0, 0, 1, 0, 0, 0, 0, 0, 0, 0, 0, 0, 0, 0, 1, 0, 0, 0, 0, 0, 0, 0, 0, 0, 0, 0, 0, 1, 0, 0, 0, 0, 0, 0, 0, 0, 0, 0, 0, 1, 0, 0, 0, 0, 0, 0, 0, 0, 0, 0, 1, 1, 1, 1, 1, 0, 0, 0, 0, 0, 0, 0, 0, 0, 0, 0, 0, 0, 0, 0, 0, 0, 0, 1, 0, 0, 0, 0, 0, 0, 0, 0, 0, 0, 0, 0, 0, 0, 0, 0, 0, 0, 0, 0, 0, 0, 0, 0, 0, 0, 0, 0, 0, 0, 0, 0, 0, 0, 0, 0, 0, 0, 0, 0, 0, 0, 0, 0, 0, 0, 0, 0, 0, 0, 0, 0, 0, 0, 0, 0, 0, 0, 0, 0, 0, 0, 0, 0, 0, 0, 0, 0, 0, 0, 0, 0, 0, 0, 0, 0, 0, 0, 0, 0, 0, 0, 0, 0, 0, 0, 0, 0, 0, 0, 0, 0, 0, 0, 1, 1, 0, 0, 0, 0, 0, 0, 0, 0, 0, 0, 0, 0, 0, 0, 0, 0, 0, 0, 0, 0, 0, 0, 0, 1, 0, 1, 1, 0, 0, 0, 0, 0, 0, 0, 0, 0, 0, 0, 0, 0, 0, 0, 0, 0, 0, 0, 0, 0, 0, 0, 0, 0, 0, 0, 0, 0, 0, 0, 0, 0, 0, 0, 0, 0, 0, 0, 0, 0, 0, 0, 0, 0, 0, 0, 0, 0, 0, 0, 0, 0, 0, 0, 0, 0, 0, 0, 0, 0, 0, 0, 0, 0, 0, 0, 0, 0, 0, 0, 0, 1, 0, 0, 0, 0, 0, 0, 0, 0, 0, 0, 0, 1, 1, 0, 0, 0, 0, 0, 0, 0, 0, 0, 0, 0, 0, 0, 0, 1, 0, 0, 0, 0, 0, 0, 0, 0, 0, 1, 1, 1, 0, 0, 0, 0, 0, 0, 0, 0, 0, 0, 0, 1, 0, 0, 0, 0, 0, 0, 0, 0, 0, 0, 0, 0, 0, 1, 0, 0, 0, 0, 0, 0, 0, 0, 0, 0, 0, 0, 1, 0, 0, 0, 0, 0, 0, 0, 0, 0, 0, 0, 1, 0, 0, 0, 0, 0, 0, 0, 0, 0, 0, 0, 1, 0, 0, 1, 1, 1, 1, 0, 0, 1, 1, 1, 1, 1, 0, 1, 0, 1, 1, 1, 0, 1, 1, 1, 0, 1, 0, 1, 1, 1, 0, 1, 1, 1, 1, 1, 1, 1, 1, 1, 1, 1, 0, 1, 1, 1, 1, 0, 1, 0, 1, 1, 0, 1, 1, 1, 1, 1, 1, 0, 1, 0, 1, 1, 1, 1, 0, 0, 1, 0, 1, 1, 0, 1, 1, 0, 1, 1, 1, 1, 1, 1, 1, 0, 1, 0, 1, 1, 0, 0, 1, 1, 1, 0, 1, 1, 1, 0, 0, 0, 0, 0, 1, 0, 0, 1, 1, 1, 1, 0, 0, 1, 1, 0, 1, 0, 0, 0, 0, 0, 0, 0, 0, 0, 0, 1, 0, 1, 0, 0, 0, 0, 0, 0, 0, 1, 0, 0, 0, 0, 0, 1, 0, 0, 0, 0, 0, 0, 1, 1, 1, 1, 1, 0, 1, 1, 1, 1, 1, 0, 0, 1, 1, 0, 1, 1, 0, 1, 1, 1, 1, 0, 1, 0, 0, 1, 1, 1, 1, 1, 0, 0, 1, 1, 1, 1, 0, 1, 1, 1, 0, 1, 0, 0, 1, 1, 1, 1, 0, 1, 1, 1, 1, 1, 1, 1, 1, 1, 1, 0, 0, 1, 1, 0, 1, 1, 0, 0, 1, 1, 1, 1, 1, 1, 1, 1, 0, 1, 0, 1, 0, 1, 1, 0, 0, 1, 1, 1, 0, 0, 1, 1, 0, 1, 1]\n",
            "                         Image  Label\n",
            "0           IM - 0100 (1).jpeg      0\n",
            "1            IM - 0100 (1).jpg      0\n",
            "2            IM - 0100 (1).png      1\n",
            "3          IM - 0100 (10).jpeg      1\n",
            "4           IM - 0100 (10).jpg      1\n",
            "..                         ...    ...\n",
            "685  NORMAL2-IM-1436-0001.jpeg      0\n",
            "686  NORMAL2-IM-1437-0001.jpeg      0\n",
            "687  NORMAL2-IM-1438-0001.jpeg      1\n",
            "688  NORMAL2-IM-1440-0001.jpeg      0\n",
            "689  NORMAL2-IM-1442-0001.jpeg      0\n",
            "\n",
            "[690 rows x 2 columns]\n"
          ],
          "name": "stdout"
        }
      ]
    },
    {
      "cell_type": "code",
      "metadata": {
        "id": "4WbBi7xNZbIe",
        "colab_type": "code",
        "colab": {}
      },
      "source": [
        "import os, shutil\n",
        "shutil.rmtree('/content/drive/My Drive/Kaggle - COVID-19 and Pneumonia Diagnosis/extractedBackup/test')\n",
        "shutil.rmtree('/content/drive/My Drive/Kaggle - COVID-19 and Pneumonia Diagnosis/extractedBackup/train')"
      ],
      "execution_count": null,
      "outputs": []
    },
    {
      "cell_type": "code",
      "metadata": {
        "id": "r9FeXQau2D5d",
        "colab_type": "code",
        "colab": {}
      },
      "source": [
        "def copytree(src, dst, symlinks=False, ignore=None):\n",
        "    for item in os.listdir(src):\n",
        "        s = os.path.join(src, item)\n",
        "        d = os.path.join(dst, item)\n",
        "        if os.path.isdir(s):\n",
        "            shutil.copytree(s, d, symlinks, ignore)\n",
        "        else:\n",
        "            shutil.copy2(s, d)\n",
        "\n",
        "\n",
        "fromDirectory = \"/content/drive/My Drive/Kaggle - COVID-19 and Pneumonia Diagnosis/extracted/\"\n",
        "toDirectory = \"/content/drive/My Drive/Kaggle - COVID-19 and Pneumonia Diagnosis/extractedBackup/\"\n",
        "\n",
        "copytree(fromDirectory, toDirectory)\n"
      ],
      "execution_count": null,
      "outputs": []
    },
    {
      "cell_type": "code",
      "metadata": {
        "id": "HpNH-U_nmOhL",
        "colab_type": "code",
        "colab": {}
      },
      "source": [
        "import os, shutil\n",
        "\n",
        "files = os.listdir('/content/drive/My Drive/Kaggle - COVID-19 and Pneumonia Diagnosis/extracted/train/NORMAL/NORMAL/')\n",
        "\n",
        "#os.mkdir('/content/drive/My Drive/Kaggle - COVID-19 and Pneumonia Diagnosis/extracted/train/NORMAL/NORMAL')\n",
        "\n",
        "for f in files: \n",
        "    fi = os.path.join('/content/drive/My Drive/Kaggle - COVID-19 and Pneumonia Diagnosis/extracted/train/NORMAL/NORMAL/', f)\n",
        "    shutil.move(fi, '/content/drive/My Drive/Kaggle - COVID-19 and Pneumonia Diagnosis/extracted/train/NORMAL/')"
      ],
      "execution_count": null,
      "outputs": []
    },
    {
      "cell_type": "code",
      "metadata": {
        "id": "kGcQiRD8m5kF",
        "colab_type": "code",
        "colab": {}
      },
      "source": [
        "shutil.rmtree('/content/drive/My Drive/Kaggle - COVID-19 and Pneumonia Diagnosis/extracted/train/NORMAL/NORMAL/')"
      ],
      "execution_count": null,
      "outputs": []
    },
    {
      "cell_type": "code",
      "metadata": {
        "id": "1VyWc08zWXCP",
        "colab_type": "code",
        "colab": {}
      },
      "source": [
        "import cv2\n",
        "from skimage import exposure\n",
        "import numpy as np\n",
        "\n",
        "raw_files = os.listdir('/content/drive/My Drive/Kaggle - COVID-19 and Pneumonia Diagnosis/extracted/train/NORMAL/')\n",
        "\n",
        "for f in raw_files:\n",
        "    # if \"Augmented\" in f:\n",
        "    #     os.remove(os.path.join('/content/drive/My Drive/Kaggle - COVID-19 and Pneumonia Diagnosis/extracted/train/NORMAL/', f))\n",
        "    raw_img = cv2.imread(os.path.join('/content/drive/My Drive/Kaggle - COVID-19 and Pneumonia Diagnosis/extracted/train/NORMAL/', f))\n",
        "    if raw_img is not None:\n",
        "        aug_img1 = cv2.flip(raw_img, 1)\n",
        "\n",
        "        v_min, v_max = np.percentile(raw_img, (0.2, 99.8))\n",
        "        aug_img2 = exposure.rescale_intensity(raw_img, in_range=(v_min, v_max))\n",
        "\n",
        "        aug_name1 = os.path.join('/content/drive/My Drive/Kaggle - COVID-19 and Pneumonia Diagnosis/extracted/train/NORMAL/', '(Augmented1)'+ f +'.png')\n",
        "        aug_name2 = os.path.join('/content/drive/My Drive/Kaggle - COVID-19 and Pneumonia Diagnosis/extracted/train/NORMAL/', '(Augmented2)'+ f +'.png')\n",
        "        cv2.imwrite(aug_name1, aug_img1)\n",
        "        cv2.imwrite(aug_name2, aug_img2)\n",
        "    "
      ],
      "execution_count": null,
      "outputs": []
    },
    {
      "cell_type": "code",
      "metadata": {
        "id": "eGaDCGMue2Pj",
        "colab_type": "code",
        "colab": {
          "base_uri": "https://localhost:8080/",
          "height": 34
        },
        "outputId": "0938777b-4de1-4204-f0da-63629d1e0df8"
      },
      "source": [
        "print(len(os.listdir('/content/drive/My Drive/Kaggle - COVID-19 and Pneumonia Diagnosis/extracted/train/NORMAL')))"
      ],
      "execution_count": null,
      "outputs": [
        {
          "output_type": "stream",
          "text": [
            "4024\n"
          ],
          "name": "stdout"
        }
      ]
    }
  ]
}